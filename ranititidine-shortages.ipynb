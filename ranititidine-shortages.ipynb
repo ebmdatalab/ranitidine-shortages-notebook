{
 "cells": [
  {
   "cell_type": "code",
   "execution_count": 1,
   "metadata": {},
   "outputs": [],
   "source": [
    "#import libraries required for analysis\n",
    "import pandas as pd\n",
    "import numpy as np\n",
    "import matplotlib\n",
    "import matplotlib.pyplot as plt\n",
    "from ebmdatalab import bq\n",
    "from ebmdatalab import charts\n",
    "from ebmdatalab import maps"
   ]
  },
  {
   "cell_type": "code",
   "execution_count": 2,
   "metadata": {},
   "outputs": [
    {
     "data": {
      "text/html": [
       "<div>\n",
       "<style scoped>\n",
       "    .dataframe tbody tr th:only-of-type {\n",
       "        vertical-align: middle;\n",
       "    }\n",
       "\n",
       "    .dataframe tbody tr th {\n",
       "        vertical-align: top;\n",
       "    }\n",
       "\n",
       "    .dataframe thead th {\n",
       "        text-align: right;\n",
       "    }\n",
       "</style>\n",
       "<table border=\"1\" class=\"dataframe\">\n",
       "  <thead>\n",
       "    <tr style=\"text-align: right;\">\n",
       "      <th></th>\n",
       "      <th>month</th>\n",
       "      <th>practice</th>\n",
       "      <th>pct</th>\n",
       "      <th>bnf_name</th>\n",
       "      <th>bnf_code</th>\n",
       "      <th>total_items</th>\n",
       "    </tr>\n",
       "  </thead>\n",
       "  <tbody>\n",
       "    <tr>\n",
       "      <th>0</th>\n",
       "      <td>2018-10-01</td>\n",
       "      <td>A81001</td>\n",
       "      <td>00K</td>\n",
       "      <td>Ranitidine HCl_Tab 150mg</td>\n",
       "      <td>0103010T0AAAAAA</td>\n",
       "      <td>32</td>\n",
       "    </tr>\n",
       "    <tr>\n",
       "      <th>1</th>\n",
       "      <td>2018-10-01</td>\n",
       "      <td>A81001</td>\n",
       "      <td>00K</td>\n",
       "      <td>Ranitidine HCl_Tab 300mg</td>\n",
       "      <td>0103010T0AAACAC</td>\n",
       "      <td>1</td>\n",
       "    </tr>\n",
       "    <tr>\n",
       "      <th>2</th>\n",
       "      <td>2018-11-01</td>\n",
       "      <td>A81001</td>\n",
       "      <td>00K</td>\n",
       "      <td>Ranitidine HCl_Tab 150mg</td>\n",
       "      <td>0103010T0AAAAAA</td>\n",
       "      <td>30</td>\n",
       "    </tr>\n",
       "  </tbody>\n",
       "</table>\n",
       "</div>"
      ],
      "text/plain": [
       "       month practice  pct                  bnf_name         bnf_code  \\\n",
       "0 2018-10-01   A81001  00K  Ranitidine HCl_Tab 150mg  0103010T0AAAAAA   \n",
       "1 2018-10-01   A81001  00K  Ranitidine HCl_Tab 300mg  0103010T0AAACAC   \n",
       "2 2018-11-01   A81001  00K  Ranitidine HCl_Tab 150mg  0103010T0AAAAAA   \n",
       "\n",
       "   total_items  \n",
       "0           32  \n",
       "1            1  \n",
       "2           30  "
      ]
     },
     "execution_count": 2,
     "metadata": {},
     "output_type": "execute_result"
    }
   ],
   "source": [
    "##first lets investigate ranitidine usage\n",
    "sql = '''\n",
    "SELECT\n",
    "  month,\n",
    "  practice,\n",
    "  pct,\n",
    "  bnf_name,\n",
    "  bnf_code,\n",
    "  SUM(items) AS total_items\n",
    "FROM\n",
    "  hscic.normalised_prescribing_standard\n",
    "INNER JOIN\n",
    "  hscic.practices pract\n",
    "ON\n",
    "  practice = pract.code\n",
    "WHERE\n",
    "  pract.setting = 4\n",
    "  AND   \n",
    "    bnf_code LIKE '0103010T0%' -- Ranitidine Hydrochloride\n",
    " AND\n",
    " month >= \"2018-10-01\"\n",
    "GROUP BY\n",
    "  practice,\n",
    "  pct,\n",
    "  month,\n",
    "  bnf_name,\n",
    "  bnf_code\n",
    "ORDER BY\n",
    "  practice,\n",
    "  month\n",
    "'''\n",
    "\n",
    "df_ranit = bq.cached_read(sql, csv_path='ranit.csv')\n",
    "df_ranit['month'] = df_ranit['month'].astype('datetime64[ns]')\n",
    "df_ranit.head(3)"
   ]
  },
  {
   "cell_type": "code",
   "execution_count": 3,
   "metadata": {},
   "outputs": [
    {
     "data": {
      "text/plain": [
       "(0, 800000)"
      ]
     },
     "execution_count": 3,
     "metadata": {},
     "output_type": "execute_result"
    },
    {
     "data": {
      "image/png": "[encoded data removed]",
      "text/plain": [
       "<Figure size 432x288 with 1 Axes>"
      ]
     },
     "metadata": {
      "needs_background": "light"
     },
     "output_type": "display_data"
    }
   ],
   "source": [
    "df_ranit.groupby(\"month\")['total_items'].sum().plot(kind='line', title=\"Total number of ranitidine items \")\n",
    "plt.ylim(0, 800000 )"
   ]
  },
  {
   "cell_type": "code",
   "execution_count": null,
   "metadata": {},
   "outputs": [],
   "source": []
  }
 ],
 "metadata": {
  "jupytext": {
   "cell_metadata_filter": "all",
   "notebook_metadata_filter": "all,-language_info",
   "text_representation": {
    "extension": ".py",
    "format_name": "light",
    "format_version": "1.5",
    "jupytext_version": "1.3.3"
   }
  },
  "kernelspec": {
   "display_name": "Python 3",
   "language": "python",
   "name": "python3"
  },
  "language_info": {
   "codemirror_mode": {
    "name": "ipython",
    "version": 3
   },
   "file_extension": ".py",
   "mimetype": "text/x-python",
   "name": "python",
   "nbconvert_exporter": "python",
   "pygments_lexer": "ipython3",
   "version": "3.8.1"
  }
 },
 "nbformat": 4,
 "nbformat_minor": 4
}
